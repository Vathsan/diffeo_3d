{
 "cells": [
  {
   "cell_type": "code",
   "execution_count": 5,
   "id": "missing-equation",
   "metadata": {
    "pycharm": {
     "name": "#%%\n"
    }
   },
   "outputs": [
    {
     "name": "stdout",
     "output_type": "stream",
     "text": [
      "The autoreload extension is already loaded. To reload it, use:\n",
      "  %reload_ext autoreload\n"
     ]
    }
   ],
   "source": [
    "%load_ext autoreload\n",
    "%autoreload 2\n",
    "\n",
    "import os\n",
    "import sys\n",
    "module_path = os.path.abspath(os.path.join('..'))\n",
    "if module_path not in sys.path:\n",
    "    sys.path.append(module_path)\n",
    "    \n",
    "from IPython.display import clear_output\n",
    "\n",
    "from src.torch.gridgen import gridgen\n",
    "from src.torch.gridgen import mygriddata\n",
    "from src.torch.gridgen import fast_sine_transform_y\n",
    "import torch\n",
    "import matplotlib.pyplot as plt\n",
    "\n",
    "import numpy as np"
   ]
  },
  {
   "cell_type": "code",
   "execution_count": 6,
   "id": "tender-accommodation",
   "metadata": {
    "pycharm": {
     "name": "#%%\n"
    }
   },
   "outputs": [],
   "source": [
    "device = torch.device(\"cuda:0\" if torch.cuda.is_available() else \"cpu\")"
   ]
  },
  {
   "cell_type": "code",
   "execution_count": 7,
   "id": "nutritional-brunei",
   "metadata": {
    "pycharm": {
     "name": "#%%\n"
    }
   },
   "outputs": [],
   "source": [
    "def display_im_grid(xgrid, ygrid, im, ngrid):\n",
    "    \"\"\"Display both grids and image\"\"\"\n",
    "    clear_output(wait=True)\n",
    "    plt.imshow(im, cmap=\"gray\")\n",
    "    plt.plot(ygrid[::ngrid, ::ngrid], xgrid[::ngrid, ::ngrid], \"b\", lw=1.0)\n",
    "    plt.plot(ygrid[::ngrid, ::ngrid].T, xgrid[::ngrid, ::ngrid].T, \"b\", lw=1.0)\n",
    "\n",
    "    plt.axis(\"off\")\n",
    "    plt.axis(\"equal\")\n",
    "    plt.pause(0.1)"
   ]
  },
  {
   "cell_type": "code",
   "execution_count": 10,
   "id": "dangerous-postcard",
   "metadata": {
    "pycharm": {
     "name": "#%%\n"
    }
   },
   "outputs": [
    {
     "name": "stdout",
     "output_type": "stream",
     "text": [
      "np_pos: (10, 2, 81, 121)\n",
      "frame: 0\n",
      "min: -1.0 max: 1.0\n",
      "frame: 1\n",
      "min: -1.0001192 max: 1.000736\n",
      "frame: 2\n",
      "min: -1.0002381 max: 1.001462\n",
      "frame: 3\n",
      "min: -1.0003551 max: 1.0021766\n",
      "frame: 4\n",
      "min: -1.0004709 max: 1.0028808\n",
      "frame: 5\n",
      "min: -1.0005856 max: 1.0035732\n",
      "frame: 6\n",
      "min: -1.000699 max: 1.004254\n",
      "frame: 7\n",
      "min: -1.0008111 max: 1.0049226\n",
      "frame: 8\n",
      "min: -1.000922 max: 1.0055795\n",
      "frame: 9\n",
      "min: -1.0010316 max: 1.0062233\n"
     ]
    }
   ],
   "source": [
    "\"\"\"Example code\"\"\"\n",
    "im = torch.zeros((10, 2, 81, 121), device=device)\n",
    "\n",
    "bsz, c, szx, szy = im.shape\n",
    "\n",
    "im[:, :, ::5, :], im[:, :, :, ::5] = 1, 1\n",
    "im[:, :, ::5, ::5] = 1\n",
    "\n",
    "nframes = bsz\n",
    "j_lb = 0.3\n",
    "j_ub = 3.0\n",
    "\n",
    "f11 = torch.linspace(1.0, 0.3, nframes, device=device)\n",
    "f12 = torch.linspace(1.0, 3.0, nframes, device=device)\n",
    "f21 = torch.linspace(0.0, 1.0, nframes, device=device)\n",
    "f22 = torch.linspace(0.0, -1.0, nframes, device=device)\n",
    "\n",
    "cz = int(0.1 * min(szx, szy))\n",
    "\n",
    "f = torch.ones((bsz, 2, szx, szy), device=device, requires_grad=True)\n",
    "f[:, 1, :, :] = 0\n",
    "\n",
    "for i in range(nframes):\n",
    "    f[\n",
    "        i, 0, szx // 3 - 1 - cz : szx // 3 + cz, szy // 3 - 1 - cz : szy // 3 + cz\n",
    "    ] = f11[i]\n",
    "    f[\n",
    "        i,\n",
    "        0,\n",
    "        2 * szx // 3 - 1 - cz : 2 * szx // 3 + cz,\n",
    "        2 * szy // 3 - 1 - cz : 2 * szy // 3 + cz,\n",
    "    ] = f12[i]\n",
    "    f[\n",
    "        i, 1, szx // 3 - 1 - cz : szx // 3 + cz, szy // 3 - 1 - cz : szy // 3 + cz\n",
    "    ] = f21[i]\n",
    "    f[\n",
    "        i,\n",
    "        1,\n",
    "        2 * szx // 3 - 1 - cz : 2 * szx // 3 + cz,\n",
    "        2 * szy // 3 - 1 - cz : 2 * szy // 3 + cz,\n",
    "    ] = f22[i]\n",
    "\n",
    "pos = gridgen(f, j_lb, j_ub, inv=False)\n",
    "pos_inv = gridgen(f, j_lb, j_ub, inv=True)\n",
    "\n",
    "im[:, 0:1, :, :] = mygriddata(pos_inv, im[:, 0:1, :, :])\n",
    "\n",
    "np_pos = pos.detach().cpu().numpy()\n",
    "np_imw = im.detach().cpu().numpy()\n",
    "\n",
    "print ('np_pos: ' + str(np_pos.shape))\n",
    "\n",
    "for i in range(nframes):\n",
    "    print ('frame: ' + str(i))\n",
    "    np_pos_frame = np_pos[i,:,:]\n",
    "    np_min = np.min(np_pos_frame)\n",
    "    np_max = np.max(np_pos_frame)\n",
    "    print ('min: ' + str(np_min) + ' max: ' + str(np_max))\n",
    "    \n",
    "\n",
    "# for i in range(nframes):\n",
    "#     display_im_grid(\n",
    "#         (szx - 1) * (np_pos[i, 0] + 1) / 2,\n",
    "#         (szy - 1) * (np_pos[i, 1] + 1) / 2,\n",
    "#         np_imw[i, 0],\n",
    "#         5,\n",
    "#     )\n"
   ]
  },
  {
   "cell_type": "code",
   "execution_count": null,
   "id": "grateful-supply",
   "metadata": {
    "pycharm": {
     "name": "#%%\n"
    }
   },
   "outputs": [],
   "source": []
  }
 ],
 "metadata": {
  "kernelspec": {
   "display_name": "Python 3",
   "language": "python",
   "name": "python3"
  },
  "language_info": {
   "codemirror_mode": {
    "name": "ipython",
    "version": 3
   },
   "file_extension": ".py",
   "mimetype": "text/x-python",
   "name": "python",
   "nbconvert_exporter": "python",
   "pygments_lexer": "ipython3",
   "version": "3.6.12"
  }
 },
 "nbformat": 4,
 "nbformat_minor": 5
}